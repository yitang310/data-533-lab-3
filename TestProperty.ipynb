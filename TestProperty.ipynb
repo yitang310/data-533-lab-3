{
 "cells": [
  {
   "cell_type": "code",
   "execution_count": 1,
   "metadata": {},
   "outputs": [
    {
     "name": "stderr",
     "output_type": "stream",
     "text": [
      "test_property1 (__main__.TestPrice) ... ok\n",
      "test_property2 (__main__.TestPrice) ... "
     ]
    },
    {
     "name": "stdout",
     "output_type": "stream",
     "text": [
      "main ingredients: water\n",
      "expiration date: 2020-08-08\n",
      "date of manufacture: 2019-08-08\n",
      "main ingredients: alcohol\n",
      "expiration date: 2020-02-02\n",
      "date of manufacture: 2019-02-02\n",
      "main ingredients: beeswax\n",
      "expiration date: 2020-09-09\n",
      "date of manufacture: 2019-09-09\n",
      "main ingredients: olive oil\n",
      "expiration date: 2020-07-07\n",
      "date of manufacture: 2019-07-07\n",
      "main ingredients: cocoa butter\n",
      "expiration date: 2020-03-03\n",
      "date of manufacture: 2019-03-03\n",
      "main ingredients: water\n",
      "expiration date: 2020-08-08\n",
      "date of manufacture: 2019-08-08\n",
      "main ingredients: alcohol\n",
      "expiration date: 2020-02-02\n",
      "date of manufacture: 2019-02-02\n",
      "main ingredients: beeswax\n",
      "expiration date: 2020-09-09\n",
      "date of manufacture: 2019-09-09\n",
      "main ingredients: olive oil\n",
      "expiration date: 2020-07-07\n",
      "date of manufacture: 2019-07-07\n",
      "main ingredients: cocoa butter\n",
      "expiration date: 2020-03-03\n",
      "date of manufacture: 2019-03-03\n"
     ]
    },
    {
     "name": "stderr",
     "output_type": "stream",
     "text": [
      "ok\n",
      "\n",
      "----------------------------------------------------------------------\n",
      "Ran 2 tests in 0.003s\n",
      "\n",
      "OK\n"
     ]
    },
    {
     "data": {
      "text/plain": [
       "<unittest.main.TestProgram at 0x10be74470>"
      ]
     },
     "execution_count": 1,
     "metadata": {},
     "output_type": "execute_result"
    }
   ],
   "source": [
    "import unittest\n",
    "from product.information import property as pr2\n",
    "\n",
    "class TestPrice(unittest.TestCase): # test class\n",
    "    def test_property1(self): # test case \n",
    "        self.assertIsNone(pr2.property('water','2020-08-08','2019-08-08'))\n",
    "        self.assertIsNone(pr2.property('alcohol','2020-02-02','2019-02-02')) \n",
    "        self.assertIsNone(pr2.property('beeswax','2020-09-09','2019-09-09'))\n",
    "        self.assertIsNone(pr2.property('olive oil','2020-07-07','2019-07-07'))\n",
    "        self.assertIsNone(pr2.property('cocoa butter','2020-03-03','2019-03-03'))\n",
    "\n",
    "    def test_property2(self): # test case \n",
    "        self.assertNotIsInstance(pr2.property('water','2020-08-08','2019-08-08'),str)\n",
    "        self.assertNotIsInstance(pr2.property('alcohol','2020-02-02','2019-02-02'),str) \n",
    "        self.assertNotIsInstance(pr2.property('beeswax','2020-09-09','2019-09-09'),str)\n",
    "        self.assertNotIsInstance(pr2.property('olive oil','2020-07-07','2019-07-07'),str)\n",
    "        self.assertNotIsInstance(pr2.property('cocoa butter','2020-03-03','2019-03-03'),str)\n",
    "\n",
    "unittest.main(argv=[''], verbosity=2, exit=False)"
   ]
  }
 ],
 "metadata": {
  "kernelspec": {
   "display_name": "Python 3",
   "language": "python",
   "name": "python3"
  },
  "language_info": {
   "codemirror_mode": {
    "name": "ipython",
    "version": 3
   },
   "file_extension": ".py",
   "mimetype": "text/x-python",
   "name": "python",
   "nbconvert_exporter": "python",
   "pygments_lexer": "ipython3",
   "version": "3.7.3"
  }
 },
 "nbformat": 4,
 "nbformat_minor": 2
}
