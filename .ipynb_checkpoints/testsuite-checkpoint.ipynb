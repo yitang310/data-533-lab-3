{
 "cells": [
  {
   "cell_type": "code",
   "execution_count": 2,
   "metadata": {},
   "outputs": [],
   "source": [
    "import unittest\n",
    "from TestCompany1 import TestCompany1\n",
    "from TestCompany2 import TestCompany2\n",
    "from TestPrice import TestPrice\n",
    "from TestProperty import TestProperty\n",
    "\n",
    "def my_suite():\n",
    "    suite = unittest.TestSuite()\n",
    "    result = unittest.TestResult() \n",
    "    suite.addTest(unittest.makeSuite(TestCompany1)) \n",
    "    suite.addTest(unittest.makeSuite(TestCompany2)) \n",
    "    suite.addTest(unittest.makeSuite(TestPrice)) \n",
    "    suite.addTest(unittest.makeSuite(TestProperty)) \n",
    "    runner = unittest.TextTestRunner() \n",
    "    print(runner.run(suite))\n",
    "my_suite()"
   ]
  },
  {
   "cell_type": "code",
   "execution_count": null,
   "metadata": {},
   "outputs": [],
   "source": []
  }
 ],
 "metadata": {
  "kernelspec": {
   "display_name": "Python 3",
   "language": "python",
   "name": "python3"
  },
  "language_info": {
   "codemirror_mode": {
    "name": "ipython",
    "version": 3
   },
   "file_extension": ".py",
   "mimetype": "text/x-python",
   "name": "python",
   "nbconvert_exporter": "python",
   "pygments_lexer": "ipython3",
   "version": "3.7.3"
  }
 },
 "nbformat": 4,
 "nbformat_minor": 2
}
