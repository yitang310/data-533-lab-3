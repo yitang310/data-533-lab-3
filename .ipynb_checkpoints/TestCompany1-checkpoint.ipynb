{
 "cells": [
  {
   "cell_type": "code",
   "execution_count": 29,
   "metadata": {},
   "outputs": [],
   "source": [
    "import unittest\n",
    "from product.company.brand_company import *\n",
    "class TestAdd(unittest.TestCase):\n",
    "    @classmethod\n",
    "    def setUpClass(cls):\n",
    "        print(\"setUpClass\")\n",
    "    def setUp(self):\n",
    "        print(\"setUp\")\n",
    "        self.c1 = company(\"LOreal\")\n",
    "        self.b1 = brand(\"Lancome\")\n",
    "    def test_company(self):\n",
    "        self.c1.set_companyname(\"LOréal\") \n",
    "        self.c1.set_companyname(\"L'Oréal\")  \n",
    "        self.c1.set_companyyear(1909) \n",
    "        self.c1.set_headquarter(\"Clichy, France\")\n",
    "        \n",
    "        self.assertNotEqual(self.c1.companyname,\"LOréal\")\n",
    "        self.assertEqual(self.c1.companyname,\"L'Oréal\")\n",
    "        self.assertEqual(self.c1.companyyear,1909)\n",
    "        self.assertEqual(self.c1.headquarter,\"Clichy, France\")\n",
    "        self.assertEqual(self.c1.display(),None)\n",
    "        \n",
    "    def test_brand(self):\n",
    "        self.b1.set_brandname(\"Lancôme\") \n",
    "        self.b1.set_brandyear(1935)  \n",
    "        self.b1.set_brandcountry(\"France\") \n",
    "        self.b1.set_belongyear(1964) \n",
    "        self.b1.set_companyname(\"L'Oréal\")  \n",
    "        self.b1.set_companyyear(1909) \n",
    "        self.b1.set_headquarter(\"Clichy, France\")\n",
    "        \n",
    "        self.assertEqual(self.b1.brandname,\"Lancôme\") \n",
    "        self.assertEqual(self.b1.brandyear,1935)  \n",
    "        self.assertEqual(self.b1.brandcountry,\"France\") \n",
    "        self.assertEqual(self.b1.belongyear,1964)\n",
    "        self.assertEqual(self.b1.display(),None)\n",
    "        \n",
    "    def tearDown(self):\n",
    "        print(\"tearDown\")\n",
    "    @classmethod\n",
    "    def tearDownClass(cls):\n",
    "        print(\"tearDownClass\")"
   ]
  }
 ],
 "metadata": {
  "kernelspec": {
   "display_name": "Python 3",
   "language": "python",
   "name": "python3"
  },
  "language_info": {
   "codemirror_mode": {
    "name": "ipython",
    "version": 3
   },
   "file_extension": ".py",
   "mimetype": "text/x-python",
   "name": "python",
   "nbconvert_exporter": "python",
   "pygments_lexer": "ipython3",
   "version": "3.7.3"
  }
 },
 "nbformat": 4,
 "nbformat_minor": 2
}
