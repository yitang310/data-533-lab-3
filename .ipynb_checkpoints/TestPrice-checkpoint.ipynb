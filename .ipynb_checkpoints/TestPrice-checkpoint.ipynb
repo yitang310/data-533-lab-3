{
 "cells": [
  {
   "cell_type": "code",
   "execution_count": 1,
   "metadata": {},
   "outputs": [
    {
     "name": "stderr",
     "output_type": "stream",
     "text": [
      "test_notprice (__main__.TestPrice) ... ok\n",
      "test_price (__main__.TestPrice) ... "
     ]
    },
    {
     "name": "stdout",
     "output_type": "stream",
     "text": [
      "setUpClass\n",
      "setUp\n",
      "tearDown\n",
      "setUp\n",
      "tearDown\n",
      "tearDownClass\n"
     ]
    },
    {
     "name": "stderr",
     "output_type": "stream",
     "text": [
      "ok\n",
      "\n",
      "----------------------------------------------------------------------\n",
      "Ran 2 tests in 0.002s\n",
      "\n",
      "OK\n"
     ]
    },
    {
     "data": {
      "text/plain": [
       "<unittest.main.TestProgram at 0x10a70ecf8>"
      ]
     },
     "execution_count": 1,
     "metadata": {},
     "output_type": "execute_result"
    }
   ],
   "source": [
    "import unittest\n",
    "from product.information import price as pr\n",
    "\n",
    "class TestPrice(unittest.TestCase): # test class\n",
    "    \n",
    "    @classmethod\n",
    "    def setUpClass(cls):\n",
    "        print(\"setUpClass\")\n",
    "\n",
    "    def setUp(self):\n",
    "        print(\"setUp\")\n",
    "        \n",
    "    def test_price(self): # test case \n",
    "        self.assertEqual(pr.tax_price(1,'BC'), 1.12) \n",
    "        self.assertEqual(pr.tax_price(1,'AB'), 1.05) \n",
    "        self.assertEqual(pr.tax_price(1,'ON'), 1.13)\n",
    "        self.assertEqual(pr.tax_price(1,'NB'), 1.15)\n",
    "        self.assertEqual(pr.tax_price(1,'MB'), 1.13)\n",
    "\n",
    "    def test_notprice(self): # test case \n",
    "        self.assertNotEqual(pr.tax_price(1,'BC'), 1.17) \n",
    "        self.assertNotEqual(pr.tax_price(1,'AB'), 1.08) \n",
    "        self.assertNotEqual(pr.tax_price(1,'ON'), 1.12)\n",
    "        self.assertNotEqual(pr.tax_price(1,'NB'), 1.14)\n",
    "        self.assertNotEqual(pr.tax_price(1,'MB'), 1.15)\n",
    "        \n",
    "    def tearDown(self):\n",
    "        print(\"tearDown\")\n",
    "\n",
    "    @classmethod\n",
    "    def tearDownClass(cls):\n",
    "        print(\"tearDownClass\")\n",
    "\n",
    "unittest.main(argv=[''], verbosity=2, exit=False)"
   ]
  }
 ],
 "metadata": {
  "kernelspec": {
   "display_name": "Python 3",
   "language": "python",
   "name": "python3"
  },
  "language_info": {
   "codemirror_mode": {
    "name": "ipython",
    "version": 3
   },
   "file_extension": ".py",
   "mimetype": "text/x-python",
   "name": "python",
   "nbconvert_exporter": "python",
   "pygments_lexer": "ipython3",
   "version": "3.7.3"
  }
 },
 "nbformat": 4,
 "nbformat_minor": 2
}
