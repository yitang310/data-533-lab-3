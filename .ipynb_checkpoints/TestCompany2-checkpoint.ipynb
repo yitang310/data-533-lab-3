{
 "cells": [
  {
   "cell_type": "code",
   "execution_count": 68,
   "metadata": {},
   "outputs": [],
   "source": [
    "import unittest\n",
    "from product.company.value_profit import *\n",
    "class Testcompany2(unittest.TestCase):\n",
    "    @classmethod\n",
    "    def setUpClass(cls):\n",
    "        print(\"setUpClass\")\n",
    "    def setUp(self):\n",
    "        print(\"setUp\")\n",
    "        \n",
    "    def teststr(self):\n",
    "        self.assertIsInstance(value_percentage(1000,10000),str)\n",
    "        self.assertIsInstance(sales_percentage(200,10000),str)\n",
    "        self.assertIsInstance(tendency(500,600),str)\n",
    "        self.assertIs(type(float(value_percentage(1000,10000).strip(\"%\"))),float)\n",
    "        self.assertIsNot(type(float(sales_percentage(1000,10000).strip(\"%\"))),int)\n",
    "        \n",
    "    def testnumber(self):\n",
    "        self.assertTrue(float(value_percentage(1000,10000).strip(\"%\"))==1000/10000*100)\n",
    "        self.assertTrue(float(sales_percentage(1000,10000).strip(\"%\"))==1000/10000*100)\n",
    "        self.assertTrue(float(tendency(500,600).strip(\"%\"))==500/600*100)\n",
    "        self.assertFalse(float(value_percentage(1234,10000).strip(\"%\"))==1000/10000*100)\n",
    "        self.assertFalse(float(sales_percentage(1234,10000).strip(\"%\"))==1000/10000*100)\n",
    "    \n",
    "    def tearDown(self):\n",
    "        print(\"tearDown\")\n",
    "    @classmethod\n",
    "    def tearDownClass(cls):\n",
    "        print(\"tearDownClass\")"
   ]
  }
 ],
 "metadata": {
  "kernelspec": {
   "display_name": "Python 3",
   "language": "python",
   "name": "python3"
  },
  "language_info": {
   "codemirror_mode": {
    "name": "ipython",
    "version": 3
   },
   "file_extension": ".py",
   "mimetype": "text/x-python",
   "name": "python",
   "nbconvert_exporter": "python",
   "pygments_lexer": "ipython3",
   "version": "3.7.3"
  }
 },
 "nbformat": 4,
 "nbformat_minor": 2
}
